{
  "nbformat": 4,
  "nbformat_minor": 0,
  "metadata": {
    "colab": {
      "name": "TP4_Machine_learning.ipynb",
      "provenance": [],
      "collapsed_sections": []
    },
    "kernelspec": {
      "name": "python3",
      "display_name": "Python 3"
    },
    "language_info": {
      "name": "python"
    }
  },
  "cells": [
    {
      "cell_type": "code",
      "execution_count": null,
      "metadata": {
        "id": "h0kIwdQk6hI6"
      },
      "outputs": [],
      "source": [
        "import warnings\n",
        "warnings.simplefilter(action='ignore', category=FutureWarning)\n",
        "import numpy as np\n",
        "import urllib.request\n",
        "import pandas as pd\n",
        "pd.options.mode.chained_assignment = None  # default='warn'\n",
        "from io import StringIO\n",
        "from matplotlib import pyplot as plt\n",
        "from datetime import timedelta\n",
        "from datetime import datetime\n",
        "import numpy as np\n",
        "from sklearn.preprocessing import MinMaxScaler\n",
        "from sklearn.metrics import mean_squared_error"
      ]
    },
    {
      "cell_type": "code",
      "source": [
        "def get_melbourne_data() -> pd.DataFrame:\n",
        "    '''\n",
        "    Returns a dataframe of the melbourne data set.\n",
        "    :return: pd.DataFrame\n",
        "    '''\n",
        "\n",
        "    # URL of the raw csv data to download\n",
        "    raw_url = \"https://raw.githubusercontent.com/jbrownlee/Datasets/master/daily-min-temperatures.csv\"\n",
        "\n",
        "    # Get the earthquake data from the API\n",
        "    response = urllib.request.urlopen(raw_url)\n",
        "\n",
        "    # Decode earthquake data\n",
        "    response = response.read().decode('utf-8')\n",
        "\n",
        "    # Return as a pandas dataframe\n",
        "    data = pd.read_csv(StringIO(response))\n",
        "\n",
        "    # Cast the date column to datetime\n",
        "    data['Date'] = pd.to_datetime(data['Date'])\n",
        "\n",
        "    return data\n",
        "\n",
        "\n",
        "def split_train_test_data(melbourne_data: pd.DataFrame, split_year: str=\"1987\") -> (pd.DataFrame, pd.DataFrame):\n",
        "    '''\n",
        "    Split the melbourne data into a training dataframe and a test dataframe.\n",
        "    The training data is composed of all temperature points strictly anterior to the given split year.\n",
        "    The test data is composed of all the points posterior or equal to the split year.\n",
        "    :param melbourne_data: pd.DataFrame, with at least column ['Date']\n",
        "    :param split_year: str, the year to split the data on\n",
        "    :return: (pd.DataFrame, pd.DataFrame)\n",
        "    '''\n",
        "\n",
        "    # Format split year variable\n",
        "    split_year = \"{}\".format(int(split_year) - 1)\n",
        "\n",
        "    # Trainings data. Data anterior to the given split year\n",
        "    train_data = melbourne_data.loc[:split_year]\n",
        "\n",
        "    # Test data. Data posterior or equal to the given split year\n",
        "    test_data = melbourne_data.loc[split_year:]\n",
        "\n",
        "    return train_data, test_data\n",
        "\n",
        "def build_training_point(data, t_str, history_days=64, horizon_days=1):\n",
        "    '''\n",
        "    :param data:\n",
        "    :param t_str:\n",
        "    :param history_days:\n",
        "    :param horizon_days:\n",
        "    :return:\n",
        "    '''\n",
        "\n",
        "    # Cast for indexing\n",
        "    t_datetime = datetime.strptime(t_str, \"%Y-%m-%d 00:00:00\")\n",
        "\n",
        "    # Create training example (x,y)\n",
        "    try:\n",
        "        x = data.loc[t_datetime - timedelta(days=history_days - 1):t_datetime]\n",
        "        y = data.loc[t_datetime + timedelta(days=1):t_datetime + timedelta(days=horizon_days)]\n",
        "    except KeyError:\n",
        "        raise KeyError(\"The date {} is not in the data\".format(t_str))\n",
        "\n",
        "    # Return\n",
        "    return x, y\n",
        "\n",
        "\n",
        "def create_training_points(data, history_days=64, horizon_days=32):\n",
        "    '''\n",
        "    :param data:\n",
        "    :param history_days:\n",
        "    :param horizon_days:\n",
        "    :return:\n",
        "    '''\n",
        "    X = []\n",
        "    Y = []\n",
        "    for t in data.index[history_days:(len(data) - horizon_days)]:\n",
        "        try:\n",
        "            x, y = build_training_point(data, str(t), history_days=history_days, horizon_days=horizon_days)\n",
        "            if (len(x) == history_days) & (len(y) == horizon_days):\n",
        "                X.append(x)\n",
        "                Y.append(y)\n",
        "        except KeyError:\n",
        "            continue\n",
        "    X = np.stack(X)\n",
        "    Y = np.stack(Y)\n",
        "    return X, Y\n",
        "\n",
        "melbourne_data = get_melbourne_data()"
      ],
      "metadata": {
        "id": "kn9fBW0uHmsW"
      },
      "execution_count": null,
      "outputs": []
    },
    {
      "cell_type": "code",
      "source": [
        "print(melbourne_data.head())"
      ],
      "metadata": {
        "colab": {
          "base_uri": "https://localhost:8080/"
        },
        "id": "yckohzAKIDIb",
        "outputId": "263f8a6b-6c42-43d1-ee89-05b59dfc0e9d"
      },
      "execution_count": null,
      "outputs": [
        {
          "output_type": "stream",
          "name": "stdout",
          "text": [
            "        Date  Temp\n",
            "0 1981-01-01  20.7\n",
            "1 1981-01-02  17.9\n",
            "2 1981-01-03  18.8\n",
            "3 1981-01-04  14.6\n",
            "4 1981-01-05  15.8\n"
          ]
        }
      ]
    },
    {
      "cell_type": "code",
      "source": [
        "def split_data(year):\n",
        "  split_date = pd.datetime(year,1,1)\n",
        "  train_data = melbourne_data.loc[melbourne_data['Date'] < split_date]\n",
        "  test_data = melbourne_data.loc[melbourne_data['Date'] >= split_date]\n",
        "\n",
        "  scaler = MinMaxScaler()\n",
        "  train_data[[\"Temp\"]] = scaler.fit_transform(train_data[[\"Temp\"]] )\n",
        "  test_data[[\"Temp\"]] = scaler.fit_transform(test_data[[\"Temp\"]] )\n",
        "\n",
        "  # Index\n",
        "  train_data.set_index('Date', inplace=True)\n",
        "  test_data.set_index('Date', inplace=True)\n",
        "  return train_data, test_data"
      ],
      "metadata": {
        "id": "Hg8zH-OCJSpp"
      },
      "execution_count": null,
      "outputs": []
    },
    {
      "cell_type": "code",
      "source": [
        "from keras.layers import Input, LSTM, Dense, Flatten\n",
        "from keras.models import Model\n",
        "\n",
        "def create_model(history_days, horizon_days):\n",
        "  model_input = Input(shape=(history_days, 1), name='x', dtype='float32')\n",
        "  z = LSTM(64, activation='relu', return_sequences=True)(model_input)\n",
        "  z = Flatten()(z) \n",
        "  z = Dense(horizon_days, activation='linear')(z)\n",
        "\n",
        "  # Keras model\n",
        "  model_keras = Model(inputs=model_input, outputs=z)\n",
        "\n",
        "  return model_keras\n",
        "\n",
        "model_3m = create_model(90, 30)\n",
        "model_6m = create_model(180, 30)\n",
        "model_12m = create_model(365, 30)"
      ],
      "metadata": {
        "id": "Is8FpBGgJZP4"
      },
      "execution_count": null,
      "outputs": []
    },
    {
      "cell_type": "code",
      "source": [
        "train_data, test_data = split_data(1987)\n",
        "X_train, Y_train = create_training_points(train_data, history_days=90, horizon_days=30)\n",
        "model_3m.compile(optimizer='adam', loss='mse')\n",
        "model_3m.fit(X_train, Y_train, epochs=32, batch_size=32, verbose=1)"
      ],
      "metadata": {
        "colab": {
          "base_uri": "https://localhost:8080/"
        },
        "id": "SHSxtCHTJa_F",
        "outputId": "32109a84-42c6-4bee-ecc8-a270823b76e6"
      },
      "execution_count": null,
      "outputs": [
        {
          "output_type": "stream",
          "name": "stdout",
          "text": [
            "Epoch 1/32\n",
            "61/61 [==============================] - 4s 47ms/step - loss: 0.0283\n",
            "Epoch 2/32\n",
            "61/61 [==============================] - 3s 48ms/step - loss: 0.0131\n",
            "Epoch 3/32\n",
            "61/61 [==============================] - 3s 54ms/step - loss: 0.0125\n",
            "Epoch 4/32\n",
            "61/61 [==============================] - 3s 49ms/step - loss: 0.0124\n",
            "Epoch 5/32\n",
            "61/61 [==============================] - 3s 48ms/step - loss: 0.0123\n",
            "Epoch 6/32\n",
            "61/61 [==============================] - 4s 66ms/step - loss: 0.0122\n",
            "Epoch 7/32\n",
            "61/61 [==============================] - 3s 57ms/step - loss: 0.0121\n",
            "Epoch 8/32\n",
            "61/61 [==============================] - 3s 48ms/step - loss: 0.0121\n",
            "Epoch 9/32\n",
            "61/61 [==============================] - 3s 47ms/step - loss: 0.0120\n",
            "Epoch 10/32\n",
            "61/61 [==============================] - 3s 47ms/step - loss: 0.0120\n",
            "Epoch 11/32\n",
            "61/61 [==============================] - 3s 47ms/step - loss: 0.0121\n",
            "Epoch 12/32\n",
            "61/61 [==============================] - 3s 47ms/step - loss: 0.0118\n",
            "Epoch 13/32\n",
            "61/61 [==============================] - 3s 48ms/step - loss: 0.0117\n",
            "Epoch 14/32\n",
            "61/61 [==============================] - 3s 48ms/step - loss: 0.0117\n",
            "Epoch 15/32\n",
            "61/61 [==============================] - 3s 47ms/step - loss: 0.0116\n",
            "Epoch 16/32\n",
            "61/61 [==============================] - 3s 48ms/step - loss: 0.0115\n",
            "Epoch 17/32\n",
            "61/61 [==============================] - 3s 48ms/step - loss: 0.0113\n",
            "Epoch 18/32\n",
            "61/61 [==============================] - 3s 53ms/step - loss: 0.0112\n",
            "Epoch 19/32\n",
            "61/61 [==============================] - 3s 47ms/step - loss: 0.0110\n",
            "Epoch 20/32\n",
            "61/61 [==============================] - 3s 49ms/step - loss: 0.0109\n",
            "Epoch 21/32\n",
            "61/61 [==============================] - 3s 49ms/step - loss: 0.0107\n",
            "Epoch 22/32\n",
            "61/61 [==============================] - 3s 48ms/step - loss: 0.0107\n",
            "Epoch 23/32\n",
            "61/61 [==============================] - 3s 49ms/step - loss: 0.0105\n",
            "Epoch 24/32\n",
            "61/61 [==============================] - 3s 49ms/step - loss: 0.0104\n",
            "Epoch 25/32\n",
            "61/61 [==============================] - 3s 47ms/step - loss: 0.0104\n",
            "Epoch 26/32\n",
            "61/61 [==============================] - 3s 48ms/step - loss: 0.0103\n",
            "Epoch 27/32\n",
            "61/61 [==============================] - 3s 48ms/step - loss: 0.0102\n",
            "Epoch 28/32\n",
            "61/61 [==============================] - 3s 47ms/step - loss: 0.0101\n",
            "Epoch 29/32\n",
            "61/61 [==============================] - 3s 48ms/step - loss: 0.0101\n",
            "Epoch 30/32\n",
            "61/61 [==============================] - 3s 48ms/step - loss: 0.0101\n",
            "Epoch 31/32\n",
            "61/61 [==============================] - 3s 49ms/step - loss: 0.0100\n",
            "Epoch 32/32\n",
            "61/61 [==============================] - 3s 47ms/step - loss: 0.0098\n"
          ]
        },
        {
          "output_type": "execute_result",
          "data": {
            "text/plain": [
              "<keras.callbacks.History at 0x7fd3f4cac150>"
            ]
          },
          "metadata": {},
          "execution_count": 122
        }
      ]
    },
    {
      "cell_type": "code",
      "source": [
        "train_data, test_data = split_data(1987)\n",
        "X_test, Y_test = create_training_points(test_data, history_days=90, horizon_days=30)\n",
        "y_pred_3m = model_3m.predict(X_test)\n",
        "print(\"1987, k=3: \", mean_squared_error(y_pred_3m[0], Y_test[0]))\n",
        "\n",
        "train_data, test_data = split_data(1988)\n",
        "X_test, Y_test = create_training_points(test_data, history_days=90, horizon_days=30)\n",
        "y_pred_3m = model_3m.predict(X_test)\n",
        "print(\"1988, k=3: \", mean_squared_error(y_pred_3m[0], Y_train[1]))\n",
        "\n",
        "train_data, test_data = split_data(1989)\n",
        "X_test, Y_test = create_training_points(test_data, history_days=90, horizon_days=30)\n",
        "y_pred_3m = model_3m.predict(X_test)\n",
        "print(\"1989, k=3: \", mean_squared_error(y_pred_3m[0], Y_train[2]))"
      ],
      "metadata": {
        "colab": {
          "base_uri": "https://localhost:8080/"
        },
        "id": "CcJi03NIl_IG",
        "outputId": "5e3de018-7f52-41e1-d927-792a35c5c50c"
      },
      "execution_count": null,
      "outputs": [
        {
          "output_type": "stream",
          "name": "stdout",
          "text": [
            "1987, k=3:  0.027352685494250226\n",
            "1988, k=3:  0.011883026331488007\n",
            "1989, k=3:  0.019069123879120797\n"
          ]
        }
      ]
    },
    {
      "cell_type": "code",
      "source": [
        "train_data, test_data = split_data(1987)\n",
        "X_train, Y_train = create_training_points(train_data, history_days=180, horizon_days=30)\n",
        "model_6m.compile(optimizer='adam', loss='mse')\n",
        "model_6m.fit(X_train, Y_train, epochs=32, batch_size=32, verbose=1)"
      ],
      "metadata": {
        "colab": {
          "base_uri": "https://localhost:8080/"
        },
        "id": "kwm99jUgJclk",
        "outputId": "166a396e-e43b-4d10-eb4a-6bf5d691a902"
      },
      "execution_count": null,
      "outputs": [
        {
          "output_type": "stream",
          "name": "stdout",
          "text": [
            "Epoch 1/32\n",
            "56/56 [==============================] - 6s 93ms/step - loss: 0.0283\n",
            "Epoch 2/32\n",
            "56/56 [==============================] - 5s 92ms/step - loss: 0.0122\n",
            "Epoch 3/32\n",
            "56/56 [==============================] - 5s 92ms/step - loss: 0.0120\n",
            "Epoch 4/32\n",
            "56/56 [==============================] - 5s 91ms/step - loss: 0.0115\n",
            "Epoch 5/32\n",
            "56/56 [==============================] - 5s 91ms/step - loss: 0.0115\n",
            "Epoch 6/32\n",
            "56/56 [==============================] - 5s 93ms/step - loss: 0.0111\n",
            "Epoch 7/32\n",
            "56/56 [==============================] - 5s 93ms/step - loss: 0.0112\n",
            "Epoch 8/32\n",
            "56/56 [==============================] - 5s 93ms/step - loss: 0.0111\n",
            "Epoch 9/32\n",
            "56/56 [==============================] - 5s 93ms/step - loss: 0.0108\n",
            "Epoch 10/32\n",
            "56/56 [==============================] - 5s 93ms/step - loss: 0.0109\n",
            "Epoch 11/32\n",
            "56/56 [==============================] - 5s 93ms/step - loss: 0.0107\n",
            "Epoch 12/32\n",
            "56/56 [==============================] - 5s 92ms/step - loss: 0.0107\n",
            "Epoch 13/32\n",
            "56/56 [==============================] - 5s 92ms/step - loss: 0.0107\n",
            "Epoch 14/32\n",
            "56/56 [==============================] - 5s 92ms/step - loss: 0.0106\n",
            "Epoch 15/32\n",
            "56/56 [==============================] - 5s 92ms/step - loss: 0.0104\n",
            "Epoch 16/32\n",
            "56/56 [==============================] - 5s 92ms/step - loss: 0.0104\n",
            "Epoch 17/32\n",
            "56/56 [==============================] - 5s 92ms/step - loss: 0.0104\n",
            "Epoch 18/32\n",
            "56/56 [==============================] - 5s 93ms/step - loss: 0.0102\n",
            "Epoch 19/32\n",
            "56/56 [==============================] - 5s 93ms/step - loss: 0.0102\n",
            "Epoch 20/32\n",
            "56/56 [==============================] - 5s 92ms/step - loss: 0.0100\n",
            "Epoch 21/32\n",
            "56/56 [==============================] - 5s 92ms/step - loss: 0.0099\n",
            "Epoch 22/32\n",
            "56/56 [==============================] - 5s 92ms/step - loss: 0.0098\n",
            "Epoch 23/32\n",
            "56/56 [==============================] - 5s 92ms/step - loss: 0.0096\n",
            "Epoch 24/32\n",
            "56/56 [==============================] - 5s 92ms/step - loss: 0.0095\n",
            "Epoch 25/32\n",
            "56/56 [==============================] - 5s 93ms/step - loss: 0.0095\n",
            "Epoch 26/32\n",
            "56/56 [==============================] - 5s 93ms/step - loss: 0.0094\n",
            "Epoch 27/32\n",
            "56/56 [==============================] - 5s 92ms/step - loss: 0.0093\n",
            "Epoch 28/32\n",
            "56/56 [==============================] - 5s 92ms/step - loss: 0.0093\n",
            "Epoch 29/32\n",
            "56/56 [==============================] - 5s 93ms/step - loss: 0.0092\n",
            "Epoch 30/32\n",
            "56/56 [==============================] - 5s 94ms/step - loss: 0.0091\n",
            "Epoch 31/32\n",
            "56/56 [==============================] - 5s 93ms/step - loss: 0.0090\n",
            "Epoch 32/32\n",
            "56/56 [==============================] - 5s 94ms/step - loss: 0.0089\n"
          ]
        },
        {
          "output_type": "execute_result",
          "data": {
            "text/plain": [
              "<keras.callbacks.History at 0x7fd3ef6a9e50>"
            ]
          },
          "metadata": {},
          "execution_count": 124
        }
      ]
    },
    {
      "cell_type": "code",
      "source": [
        "train_data, test_data = split_data(1987)\n",
        "X_test, Y_test = create_training_points(test_data, history_days=180, horizon_days=30)\n",
        "y_pred_6m = model_6m.predict(X_test)\n",
        "print(\"1987, k=6: \", mean_squared_error(y_pred_6m[0], Y_test[0]))\n",
        "\n",
        "train_data, test_data = split_data(1988)\n",
        "X_test, Y_test = create_training_points(test_data, history_days=180, horizon_days=30)\n",
        "y_pred_6m = model_6m.predict(X_test)\n",
        "print(\"1988, k=6: \", mean_squared_error(y_pred_6m[0], Y_train[1]))\n",
        "\n",
        "train_data, test_data = split_data(1989)\n",
        "X_test, Y_test = create_training_points(test_data, history_days=180, horizon_days=30)\n",
        "y_pred_6m = model_6m.predict(X_test)\n",
        "print(\"1989, k=6: \", mean_squared_error(y_pred_6m[0], Y_train[2]))"
      ],
      "metadata": {
        "colab": {
          "base_uri": "https://localhost:8080/"
        },
        "id": "hbIa1VYjsG-V",
        "outputId": "fa0abf1f-30ec-4642-b002-427c8df5aacf"
      },
      "execution_count": null,
      "outputs": [
        {
          "output_type": "stream",
          "name": "stdout",
          "text": [
            "1987, k=6:  0.007991645052612689\n",
            "1988, k=6:  0.007169696315602252\n",
            "1989, k=6:  0.012237317576332769\n"
          ]
        }
      ]
    },
    {
      "cell_type": "code",
      "source": [
        "train_data, test_data = split_data(1987)\n",
        "X_train, Y_train = create_training_points(train_data, history_days=365, horizon_days=30)\n",
        "model_12m.compile(optimizer='adam', loss='mse')\n",
        "model_12m.fit(X_train, Y_train, epochs=32, batch_size=32, verbose=1)"
      ],
      "metadata": {
        "colab": {
          "base_uri": "https://localhost:8080/"
        },
        "id": "BhD4CWmYlPRq",
        "outputId": "97611e08-559d-42bd-d8ee-6be14ce33856"
      },
      "execution_count": null,
      "outputs": [
        {
          "output_type": "stream",
          "name": "stdout",
          "text": [
            "Epoch 1/32\n",
            "44/44 [==============================] - 9s 180ms/step - loss: 0.0258\n",
            "Epoch 2/32\n",
            "44/44 [==============================] - 8s 181ms/step - loss: 0.0121\n",
            "Epoch 3/32\n",
            "44/44 [==============================] - 8s 179ms/step - loss: 0.0118\n",
            "Epoch 4/32\n",
            "44/44 [==============================] - 8s 178ms/step - loss: 0.0115\n",
            "Epoch 5/32\n",
            "44/44 [==============================] - 8s 176ms/step - loss: 0.0111\n",
            "Epoch 6/32\n",
            "44/44 [==============================] - 8s 176ms/step - loss: 0.0109\n",
            "Epoch 7/32\n",
            "44/44 [==============================] - 11s 245ms/step - loss: 0.0104\n",
            "Epoch 8/32\n",
            "44/44 [==============================] - 10s 234ms/step - loss: 0.0102\n",
            "Epoch 9/32\n",
            "44/44 [==============================] - 9s 199ms/step - loss: 0.0099\n",
            "Epoch 10/32\n",
            "44/44 [==============================] - 8s 181ms/step - loss: 0.0096\n",
            "Epoch 11/32\n",
            "44/44 [==============================] - 8s 179ms/step - loss: 0.0094\n",
            "Epoch 12/32\n",
            "44/44 [==============================] - 8s 177ms/step - loss: 0.0092\n",
            "Epoch 13/32\n",
            "44/44 [==============================] - 8s 178ms/step - loss: 0.0090\n",
            "Epoch 14/32\n",
            "44/44 [==============================] - 8s 177ms/step - loss: 0.0087\n",
            "Epoch 15/32\n",
            "44/44 [==============================] - 8s 177ms/step - loss: 0.0084\n",
            "Epoch 16/32\n",
            "44/44 [==============================] - 8s 177ms/step - loss: 0.0082\n",
            "Epoch 17/32\n",
            "44/44 [==============================] - 8s 176ms/step - loss: 0.0080\n",
            "Epoch 18/32\n",
            "44/44 [==============================] - 8s 176ms/step - loss: 0.0079\n",
            "Epoch 19/32\n",
            "44/44 [==============================] - 8s 177ms/step - loss: 0.0076\n",
            "Epoch 20/32\n",
            "44/44 [==============================] - 8s 178ms/step - loss: 0.0075\n",
            "Epoch 21/32\n",
            "44/44 [==============================] - 8s 178ms/step - loss: 0.0072\n",
            "Epoch 22/32\n",
            "44/44 [==============================] - 8s 178ms/step - loss: 0.0071\n",
            "Epoch 23/32\n",
            "44/44 [==============================] - 8s 180ms/step - loss: 0.0069\n",
            "Epoch 24/32\n",
            "44/44 [==============================] - 8s 179ms/step - loss: 0.0066\n",
            "Epoch 25/32\n",
            "44/44 [==============================] - 8s 178ms/step - loss: 0.0065\n",
            "Epoch 26/32\n",
            "44/44 [==============================] - 8s 179ms/step - loss: 0.0063\n",
            "Epoch 27/32\n",
            "44/44 [==============================] - 8s 179ms/step - loss: 0.0062\n",
            "Epoch 28/32\n",
            "44/44 [==============================] - 8s 186ms/step - loss: 0.0059\n",
            "Epoch 29/32\n",
            "44/44 [==============================] - 8s 180ms/step - loss: 0.0057\n",
            "Epoch 30/32\n",
            "44/44 [==============================] - 8s 178ms/step - loss: 0.0056\n",
            "Epoch 31/32\n",
            "44/44 [==============================] - 8s 182ms/step - loss: 0.0054\n",
            "Epoch 32/32\n",
            "44/44 [==============================] - 8s 180ms/step - loss: 0.0052\n"
          ]
        },
        {
          "output_type": "execute_result",
          "data": {
            "text/plain": [
              "<keras.callbacks.History at 0x7fd3ef240e90>"
            ]
          },
          "metadata": {},
          "execution_count": 126
        }
      ]
    },
    {
      "cell_type": "code",
      "source": [
        "train_data, test_data = split_data(1987)\n",
        "X_test, Y_test = create_training_points(test_data, history_days=365, horizon_days=30)\n",
        "y_pred_12m = model_12m.predict(X_test)\n",
        "print(\"1987, k=12: \", mean_squared_error(y_pred_12m[0], Y_test[0]))\n",
        "\n",
        "train_data, test_data = split_data(1988)\n",
        "X_test, Y_test = create_training_points(test_data, history_days=365, horizon_days=30)\n",
        "y_pred_12m = model_12m.predict(X_test)\n",
        "print(\"1988, k=12: \", mean_squared_error(y_pred_12m[0], Y_train[1]))\n",
        "\n",
        "train_data, test_data = split_data(1989)\n",
        "X_test, Y_test = create_training_points(test_data, history_days=365, horizon_days=30)\n",
        "y_pred_12m = model_12m.predict(X_test)\n",
        "print(\"1989, k=12: \", mean_squared_error(y_pred_12m[0], Y_train[2]))"
      ],
      "metadata": {
        "colab": {
          "base_uri": "https://localhost:8080/"
        },
        "id": "HRd4lpJuJd8Q",
        "outputId": "4619aee1-e88f-43c0-f6a5-54962a440cb9"
      },
      "execution_count": null,
      "outputs": [
        {
          "output_type": "stream",
          "name": "stdout",
          "text": [
            "1987, k=12:  0.03865884223545268\n",
            "1988, k=12:  0.01985055503939519\n",
            "1989, k=12:  0.04430945823737449\n"
          ]
        }
      ]
    },
    {
      "cell_type": "markdown",
      "source": [
        "Metrics: Mean Squared Error\n",
        "\n",
        "1987, k=3:  0.027352685494250226\n",
        "1988, k=3:  0.011883026331488007\n",
        "1989, k=3:  0.019069123879120797\n",
        "\n",
        "1987, k=6:  0.007991645052612689\n",
        "1988, k=6:  0.007169696315602252\n",
        "1989, k=6:  0.012237317576332769\n",
        "\n",
        "1987, k=12:  0.03865884223545268\n",
        "1988, k=12:  0.01985055503939519\n",
        "1989, k=12:  0.04430945823737449\n",
        "\n",
        "<table>\n",
        "    <thead>\n",
        "        <tr>\n",
        "            <th>Evaluation year</th>\n",
        "            <th>Next 3 months</th>\n",
        "            <th>Next 6 months</th>\n",
        "            <th>Next 12 months</th>\n",
        "        </tr>\n",
        "    </thead>\n",
        "    <tbody>\n",
        "        <tr>\n",
        "            <td>1987</td>\n",
        "            <td>0.0273</td>\n",
        "            <td>0.0079</td>\n",
        "            <td>0.0386</td>\n",
        "        </tr>\n",
        "        <tr>\n",
        "            <td>1988</td>\n",
        "            <td>0.0118</td>\n",
        "            <td>0.0071</td>\n",
        "            <td>0.0198</td>\n",
        "        </tr>\n",
        "        <tr>\n",
        "            <td>1989</td>\n",
        "            <td>0.0190</td>\n",
        "            <td>0.0122</td>\n",
        "            <td>0.0443</td>\n",
        "        </tr>\n",
        "    </tbody>\n",
        "</table>\n",
        "\n",
        "Le model le plus précis est le model est k=6. Il serait cependant interessant de voir si une modification de l architecture du réseau puisse améliorer les modèles k=3 et k=12. Le k=12 etant peut etre un peu léger pour retenir une si grande fenetre."
      ],
      "metadata": {
        "id": "YOvqJd9PvRZI"
      }
    }
  ]
}